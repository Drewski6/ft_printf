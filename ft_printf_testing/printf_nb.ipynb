{
 "cells": [
  {
   "attachments": {},
   "cell_type": "markdown",
   "metadata": {},
   "source": [
    "# ft_printf"
   ]
  },
  {
   "attachments": {},
   "cell_type": "markdown",
   "metadata": {},
   "source": [
    "## Makefile"
   ]
  },
  {
   "cell_type": "code",
   "execution_count": 13,
   "metadata": {},
   "outputs": [
    {
     "name": "stdout",
     "output_type": "stream",
     "text": [
      "Overwriting ../ft_printf/Makefile\n"
     ]
    }
   ],
   "source": [
    "%%file ../ft_printf/Makefile\n",
    "# **************************************************************************** #\n",
    "#                                                                              #\n",
    "#                                                         :::      ::::::::    #\n",
    "#    Makefile                                           :+:      :+:    :+:    #\n",
    "#                                                     +:+ +:+         +:+      #\n",
    "#    By: dpentlan <dpentlan@student.42.fr>          +#+  +:+       +#+         #\n",
    "#                                                 +#+#+#+#+#+   +#+            #\n",
    "#    Created: 2022/12/29 22:12:48 by dpentlan          #+#    #+#              #\n",
    "#    Updated: 2022/12/29 22:12:50 by dpentlan         ###   ########.fr        #\n",
    "#                                                                              #\n",
    "# **************************************************************************** #\n",
    "\n",
    "NAME = libftprintf.a\n",
    "\n",
    "SRCS = ft_printf.c \\\n",
    "    ft_printf_utils_1.c \\\n",
    "    ft_printf_utils_2.c\n",
    "\n",
    "OBJS = ${SRCS:.c=.o}\n",
    "\n",
    "INCS = ft_printf.h\n",
    "\n",
    "CFLAGS = -Wall -Wextra -Werror\n",
    "\n",
    "CC = cc\n",
    "\n",
    "SLIB = ar rcs\n",
    "\n",
    "all: $(NAME)\n",
    "\n",
    "$(NAME): $(OBJS) $(INCS)\n",
    "\t@$(SLIB) $(NAME) -o $(OBJS)\n",
    "\n",
    "%.o: %.c\n",
    "\t@$(CC) $(CFLAGS) -c $< -o $(<:.c=.o)\n",
    "\n",
    "clean:\n",
    "\t@rm -f $(OBJS)\n",
    "\n",
    "fclean:\tclean\n",
    "\t@rm -f $(NAME)\n",
    "\n",
    "re:\tfclean all\n"
   ]
  },
  {
   "attachments": {},
   "cell_type": "markdown",
   "metadata": {},
   "source": [
    "## ft_printf.h"
   ]
  },
  {
   "cell_type": "code",
   "execution_count": 14,
   "metadata": {},
   "outputs": [
    {
     "name": "stdout",
     "output_type": "stream",
     "text": [
      "Overwriting ../ft_printf/ft_printf.h\n"
     ]
    }
   ],
   "source": [
    "%%file ../ft_printf/ft_printf.h\n",
    "/* ************************************************************************** */\n",
    "/*                                                                            */\n",
    "/*                                                        :::      ::::::::   */\n",
    "/*   ft_printf.h                                      :+:      :+:    :+:   */\n",
    "/*                                                    +:+ +:+         +:+     */\n",
    "/*   By: dpentlan <dpentlan@student.42.fr>          +#+  +:+       +#+        */\n",
    "/*                                                +#+#+#+#+#+   +#+           */\n",
    "/*   Created: 2022/12/30 18:32:59 by dpentlan          #+#    #+#             */\n",
    "/*   Updated: 2022/12/30 18:33:01 by dpentlan         ###   ########.fr       */\n",
    "/*                                                                            */\n",
    "/* ************************************************************************** */\n",
    "\n",
    "#ifndef FT_PRINTF_H\n",
    "# define FT_PRINTF_H\n",
    "\n",
    "int ft_printf(const char *, ...);\n",
    "\n",
    "#endif"
   ]
  },
  {
   "attachments": {},
   "cell_type": "markdown",
   "metadata": {},
   "source": [
    "## ft_printf.c"
   ]
  },
  {
   "cell_type": "code",
   "execution_count": 15,
   "metadata": {},
   "outputs": [
    {
     "name": "stdout",
     "output_type": "stream",
     "text": [
      "Overwriting ../ft_printf/ft_printf.c\n"
     ]
    }
   ],
   "source": [
    "%%file ../ft_printf/ft_printf.c\n",
    "/* ************************************************************************** */\n",
    "/*                                                                            */\n",
    "/*                                                        :::      ::::::::   */\n",
    "/*   ft_printf.c                                        :+:      :+:    :+:   */\n",
    "/*                                                    +:+ +:+         +:+     */\n",
    "/*   By: dpentlan <dpentlan@student.42.fr>          +#+  +:+       +#+        */\n",
    "/*                                                +#+#+#+#+#+   +#+           */\n",
    "/*   Created: 2022/12/31 14:22:48 by dpentlan          #+#    #+#             */\n",
    "/*   Updated: 2022/12/31 14:22:49 by dpentlan         ###   ########.fr       */\n",
    "/*                                                                            */\n",
    "/* ************************************************************************** */\n",
    "\n",
    "\n"
   ]
  },
  {
   "attachments": {},
   "cell_type": "markdown",
   "metadata": {},
   "source": [
    "## ft_printf_utils_1.c"
   ]
  },
  {
   "cell_type": "code",
   "execution_count": 16,
   "metadata": {},
   "outputs": [
    {
     "name": "stdout",
     "output_type": "stream",
     "text": [
      "Overwriting ../ft_printf/ft_printf_utils_1.c\n"
     ]
    }
   ],
   "source": [
    "%%file ../ft_printf/ft_printf_utils_1.c\n",
    "/* ************************************************************************** */\n",
    "/*                                                                            */\n",
    "/*                                                        :::      ::::::::   */\n",
    "/*   ft_printf_utils_1.c                                :+:      :+:    :+:   */\n",
    "/*                                                    +:+ +:+         +:+     */\n",
    "/*   By: dpentlan <dpentlan@student.42.fr>          +#+  +:+       +#+        */\n",
    "/*                                                +#+#+#+#+#+   +#+           */\n",
    "/*   Created: 2022/12/31 14:41:16 by dpentlan          #+#    #+#             */\n",
    "/*   Updated: 2022/12/31 14:41:19 by dpentlan         ###   ########.fr       */\n",
    "/*                                                                            */\n",
    "/* ************************************************************************** */\n",
    "\n",
    "\n"
   ]
  },
  {
   "attachments": {},
   "cell_type": "markdown",
   "metadata": {},
   "source": [
    "## ft_printf_utils_2.c"
   ]
  },
  {
   "cell_type": "code",
   "execution_count": 17,
   "metadata": {},
   "outputs": [
    {
     "name": "stdout",
     "output_type": "stream",
     "text": [
      "Overwriting ../ft_printf/ft_printf_utils_2.c\n"
     ]
    }
   ],
   "source": [
    "%%file ../ft_printf/ft_printf_utils_2.c\n",
    "/* ************************************************************************** */\n",
    "/*                                                                            */\n",
    "/*                                                        :::      ::::::::   */\n",
    "/*   ft_printf_utils_2.c                                :+:      :+:    :+:   */\n",
    "/*                                                    +:+ +:+         +:+     */\n",
    "/*   By: dpentlan <dpentlan@student.42.fr>          +#+  +:+       +#+        */\n",
    "/*                                                +#+#+#+#+#+   +#+           */\n",
    "/*   Created: 2022/12/31 14:41:27 by dpentlan          #+#    #+#             */\n",
    "/*   Updated: 2022/12/31 14:41:28 by dpentlan         ###   ########.fr       */\n",
    "/*                                                                            */\n",
    "/* ************************************************************************** */\n",
    "\n",
    "\n"
   ]
  },
  {
   "attachments": {},
   "cell_type": "markdown",
   "metadata": {},
   "source": [
    "# Testing"
   ]
  }
 ],
 "metadata": {
  "kernelspec": {
   "display_name": "Python 3",
   "language": "python",
   "name": "python3"
  },
  "language_info": {
   "codemirror_mode": {
    "name": "ipython",
    "version": 3
   },
   "file_extension": ".py",
   "mimetype": "text/x-python",
   "name": "python",
   "nbconvert_exporter": "python",
   "pygments_lexer": "ipython3",
   "version": "3.9.13"
  },
  "orig_nbformat": 4,
  "vscode": {
   "interpreter": {
    "hash": "35159eb0463b8d05d6ebfa33c61ec94116d03e3b5624b7d5f509435ae71b39b3"
   }
  }
 },
 "nbformat": 4,
 "nbformat_minor": 2
}
