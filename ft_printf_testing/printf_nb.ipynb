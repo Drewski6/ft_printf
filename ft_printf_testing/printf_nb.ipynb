{
 "cells": [
  {
   "attachments": {},
   "cell_type": "markdown",
   "metadata": {},
   "source": [
    "# ft_printf"
   ]
  },
  {
   "attachments": {},
   "cell_type": "markdown",
   "metadata": {},
   "source": [
    "## Makefile"
   ]
  },
  {
   "cell_type": "code",
   "execution_count": 71,
   "metadata": {},
   "outputs": [
    {
     "name": "stdout",
     "output_type": "stream",
     "text": [
      "Overwriting ../ft_printf/Makefile\n"
     ]
    }
   ],
   "source": [
    "%%file ../ft_printf/Makefile\n",
    "# **************************************************************************** #\n",
    "#                                                                              #\n",
    "#                                                         :::      ::::::::    #\n",
    "#    Makefile                                           :+:      :+:    :+:    #\n",
    "#                                                     +:+ +:+         +:+      #\n",
    "#    By: dpentlan <dpentlan@student.42.fr>          +#+  +:+       +#+         #\n",
    "#                                                 +#+#+#+#+#+   +#+            #\n",
    "#    Created: 2022/12/29 22:12:48 by dpentlan          #+#    #+#              #\n",
    "#    Updated: 2022/12/29 22:12:50 by dpentlan         ###   ########.fr        #\n",
    "#                                                                              #\n",
    "# **************************************************************************** #\n",
    "\n",
    "NAME = libftprintf.a\n",
    "\n",
    "SRCS = ft_printf.c \\\n",
    "    ft_printf_utils_1.c \\\n",
    "    ft_printf_utils_2.c\n",
    "\n",
    "OBJS = ${SRCS:.c=.o}\n",
    "\n",
    "INCS = ft_printf.h\n",
    "\n",
    "CFLAGS = -Wall -Wextra -Werror\n",
    "\n",
    "CC = cc\n",
    "\n",
    "SLIB = ar rcs\n",
    "\n",
    "all: $(NAME)\n",
    "\n",
    "$(NAME): $(OBJS) $(INCS)\n",
    "\t$(SLIB) $(NAME) -o $(OBJS)\n",
    "\n",
    "%.o: %.c\n",
    "\t$(CC) $(CFLAGS) -c $< -o $(<:.c=.o)\n",
    "\n",
    "clean:\n",
    "\trm -f $(OBJS)\n",
    "\n",
    "fclean:\tclean\n",
    "\trm -f $(NAME)\n",
    "\n",
    "re:\tfclean all\n"
   ]
  },
  {
   "attachments": {},
   "cell_type": "markdown",
   "metadata": {},
   "source": [
    "## ft_printf.h"
   ]
  },
  {
   "cell_type": "code",
   "execution_count": 72,
   "metadata": {},
   "outputs": [
    {
     "name": "stdout",
     "output_type": "stream",
     "text": [
      "Overwriting ../ft_printf/ft_printf.h\n"
     ]
    }
   ],
   "source": [
    "%%file ../ft_printf/ft_printf.h\n",
    "/* ************************************************************************** */\n",
    "/*                                                                            */\n",
    "/*                                                        :::      ::::::::   */\n",
    "/*   ft_printf.h                                      :+:      :+:    :+:   */\n",
    "/*                                                    +:+ +:+         +:+     */\n",
    "/*   By: dpentlan <dpentlan@student.42.fr>          +#+  +:+       +#+        */\n",
    "/*                                                +#+#+#+#+#+   +#+           */\n",
    "/*   Created: 2022/12/30 18:32:59 by dpentlan          #+#    #+#             */\n",
    "/*   Updated: 2022/12/30 18:33:01 by dpentlan         ###   ########.fr       */\n",
    "/*                                                                            */\n",
    "/* ************************************************************************** */\n",
    "\n",
    "#ifndef FT_PRINTF_H\n",
    "# define FT_PRINTF_H\n",
    "# include <stdarg.h>\n",
    "# include <stddef.h>\n",
    "# include <unistd.h>\n",
    "\n",
    "int ft_printf(const char *, ...);\n",
    "void\tft_putchar_fd(char c, int fd);\n",
    "void\tft_putstr_fd(char *s, int fd);\n",
    "void\tft_putnbr_fd(int n, int fd);\n",
    "\n",
    "#endif"
   ]
  },
  {
   "attachments": {},
   "cell_type": "markdown",
   "metadata": {},
   "source": [
    "## ft_printf.c"
   ]
  },
  {
   "cell_type": "code",
   "execution_count": 73,
   "metadata": {},
   "outputs": [
    {
     "name": "stdout",
     "output_type": "stream",
     "text": [
      "Overwriting ../ft_printf/ft_printf.c\n"
     ]
    }
   ],
   "source": [
    "%%file ../ft_printf/ft_printf.c\n",
    "/* ************************************************************************** */\n",
    "/*                                                                            */\n",
    "/*                                                        :::      ::::::::   */\n",
    "/*   ft_printf.c                                        :+:      :+:    :+:   */\n",
    "/*                                                    +:+ +:+         +:+     */\n",
    "/*   By: dpentlan <dpentlan@student.42.fr>          +#+  +:+       +#+        */\n",
    "/*                                                +#+#+#+#+#+   +#+           */\n",
    "/*   Created: 2022/12/31 14:22:48 by dpentlan          #+#    #+#             */\n",
    "/*   Updated: 2022/12/31 14:22:49 by dpentlan         ###   ########.fr       */\n",
    "/*                                                                            */\n",
    "/* ************************************************************************** */\n",
    "\n",
    "#include \"ft_printf.h\"\n",
    "\n",
    "/*  *** format_switch (format switch) ***\n",
    " *\n",
    " *  Acts as a switch statement that determines which function to call\n",
    " *  Based on the format specifier used in ft_printf.\n",
    " *\tTakes the character after a % from input string s in function ft_printf\n",
    " *\tTakes va_list pointer 'parg'.\n",
    " *\tRuns va_arg macro to get the next item in va_list. At this point we know\n",
    " *\tthe type thanks to the switch statement.\n",
    " *\tReturns integer 1 on success.\n",
    " */\n",
    "\n",
    "static int\tformat_switch(char c, va_list parg)\n",
    "{\n",
    "\tif (c == 'c')\n",
    "\t\tft_putchar_fd(va_arg(parg, int), 1);\n",
    "\telse if (c == 's')\n",
    "\t\tft_putstr_fd(va_arg(parg, char *), 1);\n",
    "\t//else if (c == 'p')\n",
    "\telse if (c == 'd')\n",
    "\t\tft_putnbr_fd(va_arg(parg, int), 1);\n",
    "\telse if (c == 'i')\n",
    "\t\tft_putnbr_fd(va_arg(parg, int), 1);\n",
    "\t//else if (c == 'u')\n",
    "\t//else if (c == 'x')\n",
    "\t//else if (c == 'X')\n",
    "\t//else if (c == '%')\n",
    "\treturn (1);\n",
    "}\n",
    "\n",
    "/*  *** ft_printf (42 print format) ***\n",
    " *\n",
    " *  Takes a string followed by a variable number of arguments corresponding\n",
    " *  to format specifiers in the string.\n",
    " *\tUses a loop to iterate over string. When a % is found, activates a switch\n",
    " *\tstatement function and passes pointer to va_list for further execution.\n",
    " *\tReturns integer number of character processed from string 's'.\n",
    " */\n",
    "\n",
    "int ft_printf(const char *s, ...)\n",
    "{\n",
    "\tsize_t\ti;\n",
    "\tva_list\tparg;\n",
    "\n",
    "\ti = 0;\n",
    "\tva_start(parg, s);\n",
    "\twhile (s[i])\n",
    "\t{\n",
    "\t\tif (s[i] == '%')\n",
    "\t\t{\n",
    "\t\t\tformat_switch(s[i + 1], parg);\n",
    "\t\t\ti++;\n",
    "\t\t}\n",
    "\t\telse\n",
    "\t\t{\n",
    "\t\t\twrite(1, &s[i], 1);\n",
    "\t\t}\n",
    "\t\ti++;\n",
    "\t}\n",
    "\tva_end(parg);\n",
    "\treturn (i);\n",
    "}"
   ]
  },
  {
   "attachments": {},
   "cell_type": "markdown",
   "metadata": {},
   "source": [
    "## ft_printf_utils_1.c"
   ]
  },
  {
   "cell_type": "code",
   "execution_count": 74,
   "metadata": {},
   "outputs": [
    {
     "name": "stdout",
     "output_type": "stream",
     "text": [
      "Overwriting ../ft_printf/ft_printf_utils_1.c\n"
     ]
    }
   ],
   "source": [
    "%%file ../ft_printf/ft_printf_utils_1.c\n",
    "/* ************************************************************************** */\n",
    "/*                                                                            */\n",
    "/*                                                        :::      ::::::::   */\n",
    "/*   ft_printf_utils_1.c                                :+:      :+:    :+:   */\n",
    "/*                                                    +:+ +:+         +:+     */\n",
    "/*   By: dpentlan <dpentlan@student.42.fr>          +#+  +:+       +#+        */\n",
    "/*                                                +#+#+#+#+#+   +#+           */\n",
    "/*   Created: 2022/12/31 14:41:16 by dpentlan          #+#    #+#             */\n",
    "/*   Updated: 2022/12/31 14:41:19 by dpentlan         ###   ########.fr       */\n",
    "/*                                                                            */\n",
    "/* ************************************************************************** */\n",
    "\n",
    "#include \"ft_printf.h\"\n",
    "\n",
    "/*  *** ft_putchar_fd (42 put character file descriptor) ***\n",
    " *\t*** from libft ***\n",
    " *\n",
    " *  Outputs the character 'c' to file descriptor.\n",
    " *  Returns nothing.\n",
    " */\n",
    "\n",
    "void\tft_putchar_fd(char c, int fd)\n",
    "{\n",
    "\twrite(fd, &c, 1);\n",
    "}\n",
    "\n",
    "/*  *** ft_strlen (42 string length) ***\n",
    " *\t*** from libft ***\n",
    " *\n",
    " *  Takes a character pointer.\n",
    " *  Returns size_t number of 8 bit memory spaces between input pointer and\n",
    " *  the first null terminator.\n",
    " */\n",
    "\n",
    "size_t\tft_strlen(const char *str)\n",
    "{\n",
    "\tsize_t\ti;\n",
    "\n",
    "\ti = 0;\n",
    "\twhile (str && str[i])\n",
    "\t\ti++;\n",
    "\treturn (i);\n",
    "}\n",
    "\n",
    "/*  *** ft_putstr_fd (42 put string file descriptor) ***\n",
    " *\t*** from libft ***\n",
    " *\n",
    " *  Outputs the string 's' to the given file descriptor.\n",
    " *  Returns nothing.\n",
    " */\n",
    "\n",
    "void\tft_putstr_fd(char *s, int fd)\n",
    "{\n",
    "\tif (s == 0)\n",
    "\t\treturn ;\n",
    "\twrite(fd, s, ft_strlen(s));\n",
    "}\n",
    "\n",
    "/*  *** ft_putnbr_fd (42 put number file descriptor) ***\n",
    " *\n",
    " *  Outputs the integer 'n' to the given file descriptor.\n",
    " *  Returns nothing.\n",
    " */\n",
    "\n",
    "void\tft_putnbr_fd(int n, int fd)\n",
    "{\n",
    "\tlong\tnbl;\n",
    "\tchar\tc;\n",
    "\n",
    "\tnbl = (long)n;\n",
    "\tif (nbl < 0)\n",
    "\t\twrite(fd, \"-\", 1);\n",
    "\tif (nbl / 10 != 0)\n",
    "\t{\n",
    "\t\tif (nbl < 0)\n",
    "\t\t\tft_putnbr_fd((nbl / 10) * -1, fd);\n",
    "\t\telse\n",
    "\t\t\tft_putnbr_fd(nbl / 10, fd);\n",
    "\t}\n",
    "\tif (nbl < 0)\n",
    "\t\tc = (((nbl % 10) * -1) + '0');\n",
    "\telse\n",
    "\t\tc = (nbl % 10 + '0');\n",
    "\twrite(fd, &c, 1);\n",
    "\treturn ;\n",
    "}"
   ]
  },
  {
   "attachments": {},
   "cell_type": "markdown",
   "metadata": {},
   "source": [
    "## ft_printf_utils_2.c"
   ]
  },
  {
   "cell_type": "code",
   "execution_count": 75,
   "metadata": {},
   "outputs": [
    {
     "name": "stdout",
     "output_type": "stream",
     "text": [
      "Overwriting ../ft_printf/ft_printf_utils_2.c\n"
     ]
    }
   ],
   "source": [
    "%%file ../ft_printf/ft_printf_utils_2.c\n",
    "/* ************************************************************************** */\n",
    "/*                                                                            */\n",
    "/*                                                        :::      ::::::::   */\n",
    "/*   ft_printf_utils_2.c                                :+:      :+:    :+:   */\n",
    "/*                                                    +:+ +:+         +:+     */\n",
    "/*   By: dpentlan <dpentlan@student.42.fr>          +#+  +:+       +#+        */\n",
    "/*                                                +#+#+#+#+#+   +#+           */\n",
    "/*   Created: 2022/12/31 14:41:27 by dpentlan          #+#    #+#             */\n",
    "/*   Updated: 2022/12/31 14:41:28 by dpentlan         ###   ########.fr       */\n",
    "/*                                                                            */\n",
    "/* ************************************************************************** */\n",
    "\n",
    "\n"
   ]
  },
  {
   "attachments": {},
   "cell_type": "markdown",
   "metadata": {},
   "source": [
    "# Testing"
   ]
  },
  {
   "cell_type": "code",
   "execution_count": 76,
   "metadata": {},
   "outputs": [
    {
     "name": "stdout",
     "output_type": "stream",
     "text": [
      "Overwriting test_ft_printf.c\n"
     ]
    }
   ],
   "source": [
    "%%file test_ft_printf.c\n",
    "#include \"../ft_printf/ft_printf.h\"\n",
    "\n",
    "int main (void)\n",
    "{\n",
    "\tft_printf(\"Testing character: %c\\n\", 'W');\n",
    "\tft_printf(\"Testing string: %s\\n\", \"Here is a test string.\");\n",
    "\tft_printf(\"Testing decimal: %d\\n\", 12345);\n",
    "\tft_printf(\"Testing integer: %i\\n\", 67890);\n",
    "\n",
    "\treturn (0);\n",
    "}"
   ]
  },
  {
   "cell_type": "code",
   "execution_count": 79,
   "metadata": {},
   "outputs": [
    {
     "name": "stdout",
     "output_type": "stream",
     "text": [
      "Testing character: W\n",
      "Testing string: Here is a test string.\n",
      "Testing decimal: \n",
      "Testing integer: \n"
     ]
    }
   ],
   "source": [
    "%%bash\n",
    "gcc test_ft_printf.c -g -L../ft_printf -lftprintf\n",
    "./a.out"
   ]
  },
  {
   "cell_type": "markdown",
   "metadata": {},
   "source": [
    "# Scratch"
   ]
  },
  {
   "cell_type": "code",
   "execution_count": 78,
   "metadata": {},
   "outputs": [
    {
     "name": "stdout",
     "output_type": "stream",
     "text": [
      "Overwriting glibc_printf.c\n"
     ]
    }
   ],
   "source": [
    "%%file glibc_printf.c\n",
    "\n",
    "/* Copyright (C) 1991-2022 Free Software Foundation, Inc.\n",
    "   This file is part of the GNU C Library.\n",
    "   The GNU C Library is free software; you can redistribute it and/or\n",
    "   modify it under the terms of the GNU Lesser General Public\n",
    "   License as published by the Free Software Foundation; either\n",
    "   version 2.1 of the License, or (at your option) any later version.\n",
    "   The GNU C Library is distributed in the hope that it will be useful,\n",
    "   but WITHOUT ANY WARRANTY; without even the implied warranty of\n",
    "   MERCHANTABILITY or FITNESS FOR A PARTICULAR PURPOSE.  See the GNU\n",
    "   Lesser General Public License for more details.\n",
    "   You should have received a copy of the GNU Lesser General Public\n",
    "   License along with the GNU C Library; if not, see\n",
    "   <https://www.gnu.org/licenses/>.  */\n",
    "#include <libioP.h>\n",
    "#include <stdarg.h>\n",
    "#include <stdio.h>\n",
    "#undef printf\n",
    "/* Write formatted output to stdout from the format string FORMAT.  */\n",
    "/* VARARGS1 */\n",
    "int\n",
    "__printf (const char *format, ...)\n",
    "{\n",
    "  va_list arg;\n",
    "  int done;\n",
    "  va_start (arg, format);\n",
    "  done = __vfprintf_internal (stdout, format, arg, 0);\n",
    "  va_end (arg);\n",
    "  return done;\n",
    "}\n",
    "#undef _IO_printf\n",
    "ldbl_strong_alias (__printf, printf);\n",
    "ldbl_strong_alias (__printf, _IO_printf);"
   ]
  }
 ],
 "metadata": {
  "kernelspec": {
   "display_name": "Python 3",
   "language": "python",
   "name": "python3"
  },
  "language_info": {
   "codemirror_mode": {
    "name": "ipython",
    "version": 3
   },
   "file_extension": ".py",
   "mimetype": "text/x-python",
   "name": "python",
   "nbconvert_exporter": "python",
   "pygments_lexer": "ipython3",
   "version": "3.9.13"
  },
  "orig_nbformat": 4,
  "vscode": {
   "interpreter": {
    "hash": "35159eb0463b8d05d6ebfa33c61ec94116d03e3b5624b7d5f509435ae71b39b3"
   }
  }
 },
 "nbformat": 4,
 "nbformat_minor": 2
}
